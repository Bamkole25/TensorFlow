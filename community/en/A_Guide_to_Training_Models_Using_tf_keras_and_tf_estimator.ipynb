{
  "nbformat": 4,
  "nbformat_minor": 0,
  "metadata": {
    "colab": {
      "name": "A Guide to Training Models Using tf.keras and tf.estimator",
      "provenance": [],
      "collapsed_sections": []
    },
    "kernelspec": {
      "name": "python3",
      "display_name": "Python 3"
    }
  },
  "cells": [
    {
      "cell_type": "markdown",
      "metadata": {
        "id": "_cw83YOqbniF",
        "colab_type": "text"
      },
      "source": [
        "#A Guide to Training Models Using ```tf.keras``` and ```tf.estimator```\n",
        "\n",
        "In Tensorflow, we can train models using both ```tf.keras``` as well as ```tf.estimator```. In this guide, we will examine training methods for both of them, as well as how to convert ```tf.keras``` models into ```tf.estimator``` models. Lastly, we will compare and contrast the advantages/disadvatages of both methods."
      ]
    },
    {
      "cell_type": "markdown",
      "metadata": {
        "id": "UU7velq5f-Vz",
        "colab_type": "text"
      },
      "source": [
        "##Setting up\n",
        "\n",
        "First, let's set up our Tensorflow environment."
      ]
    },
    {
      "cell_type": "markdown",
      "metadata": {
        "id": "Csk_TWjx0RuB",
        "colab_type": "text"
      },
      "source": [
        "###Importing"
      ]
    },
    {
      "cell_type": "code",
      "metadata": {
        "id": "eSgEnc19ctgS",
        "colab_type": "code",
        "outputId": "2a6081f8-00b5-4ac3-9efe-3de0db728cd4",
        "colab": {
          "base_uri": "https://localhost:8080/",
          "height": 64
        }
      },
      "source": [
        "import warnings\n",
        "warnings.filterwarnings('ignore')\n",
        "\n",
        "import numpy as np\n",
        "np.random.seed(123) # for reproducibility\n",
        "\n",
        "from __future__ import absolute_import, division, print_function, unicode_literals\n",
        "\n",
        "import tensorflow as tf\n",
        "\n",
        "from tensorflow.keras.models import Sequential\n",
        "from tensorflow.keras.layers import Flatten, MaxPool2D, Conv2D, Dense, Reshape, Dropout\n",
        "from tensorflow.keras.utils import to_categorical\n",
        "\n",
        "from tensorflow.keras.datasets import mnist"
      ],
      "execution_count": 0,
      "outputs": [
        {
          "output_type": "display_data",
          "data": {
            "text/html": [
              "<p style=\"color: red;\">\n",
              "The default version of TensorFlow in Colab will soon switch to TensorFlow 2.x.<br>\n",
              "We recommend you <a href=\"https://www.tensorflow.org/guide/migrate\" target=\"_blank\">upgrade</a> now \n",
              "or ensure your notebook will continue to use TensorFlow 1.x via the <code>%tensorflow_version 1.x</code> magic:\n",
              "<a href=\"https://colab.research.google.com/notebooks/tensorflow_version.ipynb\" target=\"_blank\">more info</a>.</p>\n"
            ],
            "text/plain": [
              "<IPython.core.display.HTML object>"
            ]
          },
          "metadata": {
            "tags": []
          }
        }
      ]
    },
    {
      "cell_type": "markdown",
      "metadata": {
        "id": "d3btsDfChiKg",
        "colab_type": "text"
      },
      "source": [
        "###Loading data"
      ]
    },
    {
      "cell_type": "code",
      "metadata": {
        "id": "cMEE2XLjbitH",
        "colab_type": "code",
        "outputId": "bce138aa-5899-43d2-e01c-59a9311f30c7",
        "colab": {
          "base_uri": "https://localhost:8080/",
          "height": 52
        }
      },
      "source": [
        "(X_train, y_train), (X_test, y_test) = mnist.load_data()\n",
        "X_train = X_train.reshape(X_train.shape[0], 28, 28, 1)\n",
        "X_test = X_test.reshape(X_test.shape[0], 28, 28, 1)\n",
        "X_train = X_train.astype('float32')\n",
        "X_test = X_test.astype('float32')\n",
        "X_train /= 255\n",
        "X_test /= 255\n",
        "Y_train = to_categorical(y_train, 10)\n",
        "Y_test = to_categorical(y_test, 10)"
      ],
      "execution_count": 0,
      "outputs": [
        {
          "output_type": "stream",
          "text": [
            "Downloading data from https://storage.googleapis.com/tensorflow/tf-keras-datasets/mnist.npz\n",
            "11493376/11490434 [==============================] - 0s 0us/step\n"
          ],
          "name": "stdout"
        }
      ]
    },
    {
      "cell_type": "markdown",
      "metadata": {
        "colab_type": "text",
        "id": "oJJ3v4XuvM-i"
      },
      "source": [
        "##Training with ```tf.keras```\n",
        "\n",
        "Our first scenario is training a model for this dataset with ```tf.keras```. First, we'll define the model architecture and then we will compile and train the model. Let's get started!\n",
        "\n",
        "The model architecture we will be using will be based off of the tutorial found [here](https://www.tutorialspoint.com/tensorflow/tensorflow_keras.htm). I previously modified this in another GCI task to support Tensorflow 2.x and additionally modified it again, so it should work well as an example keras model for this guide."
      ]
    },
    {
      "cell_type": "markdown",
      "metadata": {
        "colab_type": "text",
        "id": "xDdzETVDx98C"
      },
      "source": [
        "###Defining model architecture"
      ]
    },
    {
      "cell_type": "code",
      "metadata": {
        "id": "53TK1k25htC_",
        "colab_type": "code",
        "outputId": "357e68fd-2687-4b44-b2a2-1e13505bad2e",
        "colab": {
          "base_uri": "https://localhost:8080/",
          "height": 89
        }
      },
      "source": [
        "keras_model = Sequential()\n",
        "keras_model.add(Conv2D(32, 3, 3, activation = 'relu', input_shape = (28,28,1)))\n",
        "keras_model.add(Conv2D(32, 3, 3, activation = 'relu'))\n",
        "keras_model.add(MaxPool2D(pool_size = (2,2)))\n",
        "keras_model.add(Dropout(0.25))\n",
        "keras_model.add(Flatten())\n",
        "keras_model.add(Dense(128, activation = 'relu'))\n",
        "keras_model.add(Dropout(0.5))\n",
        "keras_model.add(Dense(10, activation = 'softmax'))"
      ],
      "execution_count": 0,
      "outputs": [
        {
          "output_type": "stream",
          "text": [
            "WARNING:tensorflow:From /usr/local/lib/python3.6/dist-packages/tensorflow_core/python/ops/resource_variable_ops.py:1630: calling BaseResourceVariable.__init__ (from tensorflow.python.ops.resource_variable_ops) with constraint is deprecated and will be removed in a future version.\n",
            "Instructions for updating:\n",
            "If using Keras pass *_constraint arguments to layers.\n"
          ],
          "name": "stdout"
        }
      ]
    },
    {
      "cell_type": "markdown",
      "metadata": {
        "id": "bGBD2ddQi6jm",
        "colab_type": "text"
      },
      "source": [
        "###Compiling model"
      ]
    },
    {
      "cell_type": "code",
      "metadata": {
        "id": "Nv9jJsWsi8lZ",
        "colab_type": "code",
        "colab": {}
      },
      "source": [
        "keras_model.compile(loss = 'categorical_crossentropy', optimizer = 'adam', metrics = ['accuracy'])"
      ],
      "execution_count": 0,
      "outputs": []
    },
    {
      "cell_type": "markdown",
      "metadata": {
        "id": "V2TAV8wRixu_",
        "colab_type": "text"
      },
      "source": [
        "###Fitting model"
      ]
    },
    {
      "cell_type": "code",
      "metadata": {
        "id": "C5zKre9pi4sk",
        "colab_type": "code",
        "outputId": "3c00f586-e3df-473a-872d-75c94deacf0d",
        "colab": {
          "base_uri": "https://localhost:8080/",
          "height": 399
        }
      },
      "source": [
        "keras_model.fit(X_train, Y_train, batch_size = 32, epochs = 10, verbose = 1)"
      ],
      "execution_count": 0,
      "outputs": [
        {
          "output_type": "stream",
          "text": [
            "Train on 60000 samples\n",
            "Epoch 1/10\n",
            "60000/60000 [==============================] - 9s 158us/sample - loss: 0.8972 - acc: 0.7119\n",
            "Epoch 2/10\n",
            "60000/60000 [==============================] - 9s 153us/sample - loss: 0.5651 - acc: 0.8287\n",
            "Epoch 3/10\n",
            "60000/60000 [==============================] - 9s 152us/sample - loss: 0.4948 - acc: 0.8509\n",
            "Epoch 4/10\n",
            "60000/60000 [==============================] - 9s 151us/sample - loss: 0.4540 - acc: 0.8632\n",
            "Epoch 5/10\n",
            "60000/60000 [==============================] - 9s 151us/sample - loss: 0.4269 - acc: 0.8724\n",
            "Epoch 6/10\n",
            "60000/60000 [==============================] - 9s 146us/sample - loss: 0.4090 - acc: 0.8777\n",
            "Epoch 7/10\n",
            "60000/60000 [==============================] - 9s 152us/sample - loss: 0.3980 - acc: 0.8810\n",
            "Epoch 8/10\n",
            "60000/60000 [==============================] - 9s 151us/sample - loss: 0.3886 - acc: 0.8837\n",
            "Epoch 9/10\n",
            "60000/60000 [==============================] - 9s 152us/sample - loss: 0.3779 - acc: 0.8874\n",
            "Epoch 10/10\n",
            "60000/60000 [==============================] - 9s 149us/sample - loss: 0.3713 - acc: 0.8881\n"
          ],
          "name": "stdout"
        },
        {
          "output_type": "execute_result",
          "data": {
            "text/plain": [
              "<tensorflow.python.keras.callbacks.History at 0x7fdd88c043c8>"
            ]
          },
          "metadata": {
            "tags": []
          },
          "execution_count": 7
        }
      ]
    },
    {
      "cell_type": "markdown",
      "metadata": {
        "id": "vHkaJOH1yGf4",
        "colab_type": "text"
      },
      "source": [
        "##Training with ```tf.estimator```\n",
        "\n",
        "Next, we'll take a look at how to train a model for this dataset with ```tf.estimator```. We can take advantage of the premade estimators (specifically ```DNNClassifier```) and tweak it to the needs of our specific model. We will be using the same model structure as before for means of comparison. We will also be using the same test/train splits used before, as well as the same batch/epoch sizes. The number of steps can be calculated as (total number of images)/(batch size) * (number of epochs) = 60000/32 * 10 = 18750."
      ]
    },
    {
      "cell_type": "markdown",
      "metadata": {
        "id": "J1VDQOl3INGF",
        "colab_type": "text"
      },
      "source": [
        "###Reload data"
      ]
    },
    {
      "cell_type": "code",
      "metadata": {
        "id": "oIh3u-EPH9bA",
        "colab_type": "code",
        "colab": {}
      },
      "source": [
        "(X_train, y_train), (X_test, y_test) = mnist.load_data()"
      ],
      "execution_count": 0,
      "outputs": []
    },
    {
      "cell_type": "markdown",
      "metadata": {
        "id": "88QPIYQ3BimF",
        "colab_type": "text"
      },
      "source": [
        "###Defining model architecture"
      ]
    },
    {
      "cell_type": "code",
      "metadata": {
        "id": "mwqFYgh98ghb",
        "colab_type": "code",
        "colab": {}
      },
      "source": [
        "estimator_model = tf.estimator.DNNClassifier(\n",
        "    feature_columns=[tf.feature_column.numeric_column(\"x\", shape=[28, 28])], #feature that we are specifying\n",
        "    hidden_units=[32, 32, 128, 10], #layers that we set up previously\n",
        "    optimizer=tf.train.AdamOptimizer(),\n",
        "    n_classes=10,\n",
        "    dropout=0.25,\n",
        ")"
      ],
      "execution_count": 0,
      "outputs": []
    },
    {
      "cell_type": "markdown",
      "metadata": {
        "id": "0_DLg9euDFdH",
        "colab_type": "text"
      },
      "source": [
        "###Defining training inputs"
      ]
    },
    {
      "cell_type": "code",
      "metadata": {
        "id": "rgmM0A_KDKBV",
        "colab_type": "code",
        "colab": {}
      },
      "source": [
        "train_input_fn = tf.estimator.inputs.numpy_input_fn(\n",
        "    x={'x': X_train},\n",
        "    y=y_train.astype('int32'),\n",
        "    num_epochs=10,\n",
        "    batch_size=32,\n",
        "    shuffle=True,\n",
        ")"
      ],
      "execution_count": 0,
      "outputs": []
    },
    {
      "cell_type": "markdown",
      "metadata": {
        "id": "I9kIsqxpEEO8",
        "colab_type": "text"
      },
      "source": [
        "###Training model"
      ]
    },
    {
      "cell_type": "code",
      "metadata": {
        "id": "fvHnfoyQELLa",
        "colab_type": "code",
        "outputId": "03589e37-275d-4482-d20e-8e07c266ed16",
        "colab": {
          "base_uri": "https://localhost:8080/",
          "height": 1000
        }
      },
      "source": [
        "estimator_model.train(input_fn=train_input_fn, steps=18750)"
      ],
      "execution_count": 0,
      "outputs": [
        {
          "output_type": "stream",
          "text": [
            "INFO:tensorflow:Calling model_fn.\n",
            "INFO:tensorflow:Done calling model_fn.\n",
            "INFO:tensorflow:Create CheckpointSaverHook.\n",
            "INFO:tensorflow:Graph was finalized.\n",
            "INFO:tensorflow:Restoring parameters from /tmp/tmp2b8x8ooy/model.ckpt-18750\n",
            "WARNING:tensorflow:From /usr/local/lib/python3.6/dist-packages/tensorflow_core/python/training/saver.py:1069: get_checkpoint_mtimes (from tensorflow.python.training.checkpoint_management) is deprecated and will be removed in a future version.\n",
            "Instructions for updating:\n",
            "Use standard file utilities to get mtimes.\n",
            "INFO:tensorflow:Running local_init_op.\n",
            "INFO:tensorflow:Done running local_init_op.\n",
            "INFO:tensorflow:Saving checkpoints for 18750 into /tmp/tmp2b8x8ooy/model.ckpt.\n",
            "INFO:tensorflow:loss = 34.545532, step = 18751\n",
            "INFO:tensorflow:global_step/sec: 274.076\n",
            "INFO:tensorflow:loss = 36.36592, step = 18851 (0.366 sec)\n",
            "WARNING:tensorflow:It seems that global step (tf.train.get_global_step) has not been increased. Current value (could be stable): 18853 vs previous value: 18853. You could increase the global step by passing tf.train.get_global_step() to Optimizer.apply_gradients or Optimizer.minimize.\n",
            "INFO:tensorflow:global_step/sec: 357.32\n",
            "INFO:tensorflow:loss = 27.184296, step = 18951 (0.280 sec)\n",
            "INFO:tensorflow:global_step/sec: 350.188\n",
            "INFO:tensorflow:loss = 26.193417, step = 19051 (0.285 sec)\n",
            "INFO:tensorflow:global_step/sec: 392.717\n",
            "INFO:tensorflow:loss = 45.261253, step = 19151 (0.257 sec)\n",
            "INFO:tensorflow:global_step/sec: 362.822\n",
            "INFO:tensorflow:loss = 34.116203, step = 19251 (0.274 sec)\n",
            "INFO:tensorflow:global_step/sec: 377.175\n",
            "INFO:tensorflow:loss = 30.473282, step = 19351 (0.267 sec)\n",
            "INFO:tensorflow:global_step/sec: 377.754\n",
            "INFO:tensorflow:loss = 24.974178, step = 19451 (0.262 sec)\n",
            "INFO:tensorflow:global_step/sec: 342.173\n",
            "INFO:tensorflow:loss = 44.794807, step = 19551 (0.295 sec)\n",
            "INFO:tensorflow:global_step/sec: 356.229\n",
            "INFO:tensorflow:loss = 33.134678, step = 19651 (0.281 sec)\n",
            "INFO:tensorflow:global_step/sec: 390.361\n",
            "INFO:tensorflow:loss = 26.22519, step = 19751 (0.257 sec)\n",
            "INFO:tensorflow:global_step/sec: 367.261\n",
            "INFO:tensorflow:loss = 31.334255, step = 19851 (0.269 sec)\n",
            "INFO:tensorflow:global_step/sec: 375.517\n",
            "INFO:tensorflow:loss = 16.325682, step = 19951 (0.267 sec)\n",
            "INFO:tensorflow:global_step/sec: 385.892\n",
            "INFO:tensorflow:loss = 33.443302, step = 20051 (0.259 sec)\n",
            "INFO:tensorflow:global_step/sec: 364.749\n",
            "INFO:tensorflow:loss = 22.575424, step = 20151 (0.274 sec)\n",
            "INFO:tensorflow:global_step/sec: 377.906\n",
            "INFO:tensorflow:loss = 42.258247, step = 20251 (0.265 sec)\n",
            "INFO:tensorflow:global_step/sec: 331.661\n",
            "INFO:tensorflow:loss = 30.58318, step = 20351 (0.302 sec)\n",
            "INFO:tensorflow:global_step/sec: 384.816\n",
            "INFO:tensorflow:loss = 24.376911, step = 20451 (0.260 sec)\n",
            "INFO:tensorflow:global_step/sec: 358.829\n",
            "INFO:tensorflow:loss = 30.067444, step = 20551 (0.279 sec)\n",
            "INFO:tensorflow:global_step/sec: 366.708\n",
            "INFO:tensorflow:loss = 22.273834, step = 20651 (0.272 sec)\n",
            "INFO:tensorflow:global_step/sec: 375.349\n",
            "INFO:tensorflow:loss = 42.661114, step = 20751 (0.267 sec)\n",
            "INFO:tensorflow:global_step/sec: 378.376\n",
            "INFO:tensorflow:loss = 28.87573, step = 20851 (0.267 sec)\n",
            "INFO:tensorflow:global_step/sec: 372.336\n",
            "INFO:tensorflow:loss = 20.934738, step = 20951 (0.266 sec)\n",
            "INFO:tensorflow:global_step/sec: 336.525\n",
            "INFO:tensorflow:loss = 28.98251, step = 21051 (0.297 sec)\n",
            "INFO:tensorflow:global_step/sec: 358.998\n",
            "INFO:tensorflow:loss = 39.779484, step = 21151 (0.279 sec)\n",
            "INFO:tensorflow:global_step/sec: 359.085\n",
            "INFO:tensorflow:loss = 30.009598, step = 21251 (0.279 sec)\n",
            "WARNING:tensorflow:It seems that global step (tf.train.get_global_step) has not been increased. Current value (could be stable): 21312 vs previous value: 21312. You could increase the global step by passing tf.train.get_global_step() to Optimizer.apply_gradients or Optimizer.minimize.\n",
            "INFO:tensorflow:global_step/sec: 324.675\n",
            "INFO:tensorflow:loss = 23.9089, step = 21351 (0.309 sec)\n",
            "INFO:tensorflow:global_step/sec: 379.573\n",
            "INFO:tensorflow:loss = 29.586802, step = 21451 (0.262 sec)\n",
            "INFO:tensorflow:global_step/sec: 386.232\n",
            "INFO:tensorflow:loss = 26.502434, step = 21551 (0.262 sec)\n",
            "INFO:tensorflow:global_step/sec: 368.42\n",
            "INFO:tensorflow:loss = 33.148033, step = 21651 (0.270 sec)\n",
            "INFO:tensorflow:global_step/sec: 333.566\n",
            "INFO:tensorflow:loss = 33.997128, step = 21751 (0.299 sec)\n",
            "INFO:tensorflow:global_step/sec: 356.12\n",
            "INFO:tensorflow:loss = 35.566998, step = 21851 (0.280 sec)\n",
            "INFO:tensorflow:global_step/sec: 379.197\n",
            "INFO:tensorflow:loss = 29.739769, step = 21951 (0.264 sec)\n",
            "INFO:tensorflow:global_step/sec: 365.64\n",
            "INFO:tensorflow:loss = 28.741016, step = 22051 (0.276 sec)\n",
            "INFO:tensorflow:global_step/sec: 357.331\n",
            "INFO:tensorflow:loss = 24.947342, step = 22151 (0.280 sec)\n",
            "INFO:tensorflow:global_step/sec: 357.79\n",
            "INFO:tensorflow:loss = 31.443031, step = 22251 (0.277 sec)\n",
            "INFO:tensorflow:global_step/sec: 367.959\n",
            "INFO:tensorflow:loss = 32.031696, step = 22351 (0.273 sec)\n",
            "INFO:tensorflow:global_step/sec: 367.677\n",
            "INFO:tensorflow:loss = 21.824158, step = 22451 (0.271 sec)\n",
            "INFO:tensorflow:global_step/sec: 372.81\n",
            "INFO:tensorflow:loss = 30.078144, step = 22551 (0.271 sec)\n",
            "INFO:tensorflow:global_step/sec: 357.796\n",
            "INFO:tensorflow:loss = 29.711182, step = 22651 (0.276 sec)\n",
            "INFO:tensorflow:global_step/sec: 339.181\n",
            "INFO:tensorflow:loss = 30.581041, step = 22751 (0.295 sec)\n",
            "INFO:tensorflow:global_step/sec: 342.683\n",
            "INFO:tensorflow:loss = 23.282162, step = 22851 (0.294 sec)\n",
            "INFO:tensorflow:global_step/sec: 369.6\n",
            "INFO:tensorflow:loss = 34.82706, step = 22951 (0.271 sec)\n",
            "INFO:tensorflow:global_step/sec: 352.078\n",
            "INFO:tensorflow:loss = 32.043034, step = 23051 (0.282 sec)\n",
            "INFO:tensorflow:global_step/sec: 360.114\n",
            "INFO:tensorflow:loss = 25.365305, step = 23151 (0.278 sec)\n",
            "INFO:tensorflow:global_step/sec: 370.462\n",
            "INFO:tensorflow:loss = 22.883247, step = 23251 (0.270 sec)\n",
            "INFO:tensorflow:global_step/sec: 331.028\n",
            "INFO:tensorflow:loss = 28.205101, step = 23351 (0.303 sec)\n",
            "INFO:tensorflow:global_step/sec: 333.246\n",
            "INFO:tensorflow:loss = 28.205967, step = 23451 (0.302 sec)\n",
            "INFO:tensorflow:global_step/sec: 379.297\n",
            "INFO:tensorflow:loss = 32.466232, step = 23551 (0.263 sec)\n",
            "INFO:tensorflow:global_step/sec: 356.931\n",
            "INFO:tensorflow:loss = 20.641346, step = 23651 (0.278 sec)\n",
            "INFO:tensorflow:global_step/sec: 363.432\n",
            "INFO:tensorflow:loss = 33.126244, step = 23751 (0.275 sec)\n",
            "INFO:tensorflow:global_step/sec: 392.867\n",
            "INFO:tensorflow:loss = 24.59236, step = 23851 (0.259 sec)\n",
            "INFO:tensorflow:global_step/sec: 356.975\n",
            "INFO:tensorflow:loss = 46.124416, step = 23951 (0.276 sec)\n",
            "INFO:tensorflow:global_step/sec: 340.678\n",
            "INFO:tensorflow:loss = 44.33403, step = 24051 (0.293 sec)\n",
            "INFO:tensorflow:global_step/sec: 361.536\n",
            "INFO:tensorflow:loss = 30.566408, step = 24151 (0.278 sec)\n",
            "INFO:tensorflow:global_step/sec: 338.341\n",
            "INFO:tensorflow:loss = 28.726452, step = 24251 (0.295 sec)\n",
            "INFO:tensorflow:global_step/sec: 357.551\n",
            "INFO:tensorflow:loss = 27.842205, step = 24351 (0.279 sec)\n",
            "INFO:tensorflow:global_step/sec: 337.031\n",
            "INFO:tensorflow:loss = 32.505165, step = 24451 (0.297 sec)\n",
            "INFO:tensorflow:global_step/sec: 385.238\n",
            "INFO:tensorflow:loss = 35.12821, step = 24551 (0.262 sec)\n",
            "INFO:tensorflow:global_step/sec: 382.552\n",
            "INFO:tensorflow:loss = 29.590168, step = 24651 (0.259 sec)\n",
            "INFO:tensorflow:global_step/sec: 359.97\n",
            "INFO:tensorflow:loss = 28.597479, step = 24751 (0.280 sec)\n",
            "INFO:tensorflow:global_step/sec: 355.139\n",
            "INFO:tensorflow:loss = 33.054565, step = 24851 (0.279 sec)\n",
            "INFO:tensorflow:global_step/sec: 380.548\n",
            "INFO:tensorflow:loss = 22.732683, step = 24951 (0.263 sec)\n",
            "INFO:tensorflow:global_step/sec: 347.031\n",
            "INFO:tensorflow:loss = 35.066505, step = 25051 (0.291 sec)\n",
            "INFO:tensorflow:global_step/sec: 307.196\n",
            "INFO:tensorflow:loss = 30.2038, step = 25151 (0.323 sec)\n",
            "INFO:tensorflow:global_step/sec: 360.526\n",
            "INFO:tensorflow:loss = 28.448912, step = 25251 (0.277 sec)\n",
            "INFO:tensorflow:global_step/sec: 353.463\n",
            "INFO:tensorflow:loss = 36.736492, step = 25351 (0.283 sec)\n",
            "INFO:tensorflow:global_step/sec: 343.929\n",
            "INFO:tensorflow:loss = 28.905075, step = 25451 (0.291 sec)\n",
            "INFO:tensorflow:global_step/sec: 349.476\n",
            "INFO:tensorflow:loss = 39.079185, step = 25551 (0.286 sec)\n",
            "INFO:tensorflow:global_step/sec: 356.226\n",
            "INFO:tensorflow:loss = 20.493605, step = 25651 (0.280 sec)\n",
            "INFO:tensorflow:global_step/sec: 358.908\n",
            "INFO:tensorflow:loss = 24.033596, step = 25751 (0.279 sec)\n",
            "INFO:tensorflow:global_step/sec: 361.377\n",
            "INFO:tensorflow:loss = 32.44416, step = 25851 (0.277 sec)\n",
            "INFO:tensorflow:global_step/sec: 367.764\n",
            "INFO:tensorflow:loss = 29.573887, step = 25951 (0.272 sec)\n",
            "INFO:tensorflow:global_step/sec: 353.577\n",
            "INFO:tensorflow:loss = 25.570103, step = 26051 (0.286 sec)\n",
            "INFO:tensorflow:global_step/sec: 363.933\n",
            "INFO:tensorflow:loss = 25.418285, step = 26151 (0.272 sec)\n",
            "INFO:tensorflow:global_step/sec: 352.714\n",
            "INFO:tensorflow:loss = 25.39981, step = 26251 (0.283 sec)\n",
            "INFO:tensorflow:global_step/sec: 352.496\n",
            "INFO:tensorflow:loss = 35.787186, step = 26351 (0.284 sec)\n",
            "INFO:tensorflow:global_step/sec: 341.906\n",
            "INFO:tensorflow:loss = 31.000824, step = 26451 (0.295 sec)\n",
            "INFO:tensorflow:global_step/sec: 368.014\n",
            "INFO:tensorflow:loss = 34.740723, step = 26551 (0.271 sec)\n",
            "INFO:tensorflow:global_step/sec: 360.799\n",
            "INFO:tensorflow:loss = 23.603878, step = 26651 (0.278 sec)\n",
            "INFO:tensorflow:global_step/sec: 388.282\n",
            "INFO:tensorflow:loss = 29.348906, step = 26751 (0.256 sec)\n",
            "INFO:tensorflow:global_step/sec: 390.05\n",
            "INFO:tensorflow:loss = 18.619919, step = 26851 (0.255 sec)\n",
            "INFO:tensorflow:global_step/sec: 366.252\n",
            "INFO:tensorflow:loss = 28.764408, step = 26951 (0.273 sec)\n",
            "INFO:tensorflow:global_step/sec: 366.853\n",
            "INFO:tensorflow:loss = 36.327354, step = 27051 (0.276 sec)\n",
            "INFO:tensorflow:global_step/sec: 385.743\n",
            "INFO:tensorflow:loss = 31.547184, step = 27151 (0.256 sec)\n",
            "INFO:tensorflow:global_step/sec: 391.79\n",
            "INFO:tensorflow:loss = 20.443386, step = 27251 (0.258 sec)\n",
            "INFO:tensorflow:global_step/sec: 354.903\n",
            "INFO:tensorflow:loss = 39.186333, step = 27351 (0.280 sec)\n",
            "INFO:tensorflow:global_step/sec: 347.165\n",
            "INFO:tensorflow:loss = 36.819054, step = 27451 (0.288 sec)\n",
            "INFO:tensorflow:global_step/sec: 354.084\n",
            "INFO:tensorflow:loss = 23.075378, step = 27551 (0.282 sec)\n",
            "INFO:tensorflow:global_step/sec: 369.992\n",
            "INFO:tensorflow:loss = 29.486294, step = 27651 (0.271 sec)\n",
            "INFO:tensorflow:global_step/sec: 354.573\n",
            "INFO:tensorflow:loss = 26.701433, step = 27751 (0.281 sec)\n",
            "INFO:tensorflow:global_step/sec: 372.916\n",
            "INFO:tensorflow:loss = 76.3383, step = 27851 (0.269 sec)\n",
            "INFO:tensorflow:global_step/sec: 364.427\n",
            "INFO:tensorflow:loss = 23.440224, step = 27951 (0.275 sec)\n",
            "INFO:tensorflow:global_step/sec: 354.064\n",
            "INFO:tensorflow:loss = 20.93472, step = 28051 (0.282 sec)\n",
            "INFO:tensorflow:global_step/sec: 372.908\n",
            "INFO:tensorflow:loss = 27.907692, step = 28151 (0.271 sec)\n",
            "INFO:tensorflow:global_step/sec: 375.56\n",
            "INFO:tensorflow:loss = 36.77633, step = 28251 (0.263 sec)\n",
            "INFO:tensorflow:global_step/sec: 351.392\n",
            "INFO:tensorflow:loss = 29.933287, step = 28351 (0.285 sec)\n",
            "INFO:tensorflow:global_step/sec: 354.136\n",
            "INFO:tensorflow:loss = 34.30904, step = 28451 (0.282 sec)\n",
            "INFO:tensorflow:global_step/sec: 378.876\n",
            "INFO:tensorflow:loss = 32.34471, step = 28551 (0.267 sec)\n",
            "INFO:tensorflow:global_step/sec: 368.005\n",
            "INFO:tensorflow:loss = 34.253304, step = 28651 (0.268 sec)\n",
            "INFO:tensorflow:global_step/sec: 350.063\n",
            "INFO:tensorflow:loss = 29.121384, step = 28751 (0.286 sec)\n",
            "INFO:tensorflow:global_step/sec: 331.47\n",
            "INFO:tensorflow:loss = 45.072323, step = 28851 (0.304 sec)\n",
            "INFO:tensorflow:global_step/sec: 371.134\n",
            "INFO:tensorflow:loss = 24.53209, step = 28951 (0.268 sec)\n",
            "INFO:tensorflow:global_step/sec: 341.836\n",
            "INFO:tensorflow:loss = 37.567387, step = 29051 (0.291 sec)\n",
            "INFO:tensorflow:global_step/sec: 326.918\n",
            "INFO:tensorflow:loss = 21.330051, step = 29151 (0.306 sec)\n",
            "INFO:tensorflow:global_step/sec: 353.015\n",
            "INFO:tensorflow:loss = 31.070032, step = 29251 (0.283 sec)\n",
            "INFO:tensorflow:global_step/sec: 341.108\n",
            "INFO:tensorflow:loss = 26.279488, step = 29351 (0.297 sec)\n",
            "INFO:tensorflow:global_step/sec: 346.638\n",
            "INFO:tensorflow:loss = 27.554222, step = 29451 (0.285 sec)\n",
            "INFO:tensorflow:global_step/sec: 353.974\n",
            "INFO:tensorflow:loss = 36.878952, step = 29551 (0.283 sec)\n",
            "INFO:tensorflow:global_step/sec: 308.263\n",
            "INFO:tensorflow:loss = 26.443739, step = 29651 (0.324 sec)\n",
            "INFO:tensorflow:global_step/sec: 344.878\n",
            "INFO:tensorflow:loss = 19.660355, step = 29751 (0.290 sec)\n",
            "INFO:tensorflow:global_step/sec: 310.854\n",
            "INFO:tensorflow:loss = 35.42279, step = 29851 (0.322 sec)\n",
            "INFO:tensorflow:global_step/sec: 356.512\n",
            "INFO:tensorflow:loss = 19.684841, step = 29951 (0.281 sec)\n",
            "INFO:tensorflow:global_step/sec: 335.564\n",
            "INFO:tensorflow:loss = 31.338058, step = 30051 (0.298 sec)\n",
            "INFO:tensorflow:global_step/sec: 357.163\n",
            "INFO:tensorflow:loss = 35.750977, step = 30151 (0.284 sec)\n",
            "INFO:tensorflow:global_step/sec: 334.747\n",
            "INFO:tensorflow:loss = 20.251564, step = 30251 (0.295 sec)\n",
            "INFO:tensorflow:global_step/sec: 334.311\n",
            "INFO:tensorflow:loss = 31.402658, step = 30351 (0.300 sec)\n",
            "INFO:tensorflow:global_step/sec: 349.365\n",
            "INFO:tensorflow:loss = 16.776428, step = 30451 (0.286 sec)\n",
            "INFO:tensorflow:global_step/sec: 353.205\n",
            "INFO:tensorflow:loss = 31.354696, step = 30551 (0.283 sec)\n",
            "INFO:tensorflow:global_step/sec: 338.887\n",
            "INFO:tensorflow:loss = 43.503326, step = 30651 (0.295 sec)\n",
            "INFO:tensorflow:global_step/sec: 319.213\n",
            "INFO:tensorflow:loss = 28.007732, step = 30751 (0.314 sec)\n",
            "INFO:tensorflow:global_step/sec: 329.675\n",
            "INFO:tensorflow:loss = 24.168598, step = 30851 (0.305 sec)\n",
            "INFO:tensorflow:global_step/sec: 355.957\n",
            "INFO:tensorflow:loss = 30.947357, step = 30951 (0.279 sec)\n",
            "INFO:tensorflow:global_step/sec: 380.178\n",
            "INFO:tensorflow:loss = 25.1144, step = 31051 (0.263 sec)\n",
            "INFO:tensorflow:global_step/sec: 373.859\n",
            "INFO:tensorflow:loss = 23.713402, step = 31151 (0.269 sec)\n",
            "INFO:tensorflow:global_step/sec: 360.018\n",
            "INFO:tensorflow:loss = 21.41994, step = 31251 (0.276 sec)\n",
            "INFO:tensorflow:global_step/sec: 367.147\n",
            "INFO:tensorflow:loss = 29.591076, step = 31351 (0.272 sec)\n",
            "INFO:tensorflow:global_step/sec: 362.419\n",
            "INFO:tensorflow:loss = 30.606663, step = 31451 (0.276 sec)\n",
            "INFO:tensorflow:global_step/sec: 352.382\n",
            "INFO:tensorflow:loss = 30.279882, step = 31551 (0.284 sec)\n",
            "INFO:tensorflow:global_step/sec: 342.067\n",
            "INFO:tensorflow:loss = 21.496399, step = 31651 (0.292 sec)\n",
            "INFO:tensorflow:global_step/sec: 358.704\n",
            "INFO:tensorflow:loss = 16.197205, step = 31751 (0.279 sec)\n",
            "INFO:tensorflow:global_step/sec: 363.487\n",
            "INFO:tensorflow:loss = 25.158396, step = 31851 (0.276 sec)\n",
            "INFO:tensorflow:global_step/sec: 360.163\n",
            "INFO:tensorflow:loss = 35.937443, step = 31951 (0.277 sec)\n",
            "INFO:tensorflow:global_step/sec: 337.35\n",
            "INFO:tensorflow:loss = 35.07252, step = 32051 (0.299 sec)\n",
            "INFO:tensorflow:global_step/sec: 338.086\n",
            "INFO:tensorflow:loss = 29.837425, step = 32151 (0.294 sec)\n",
            "INFO:tensorflow:global_step/sec: 366.197\n",
            "INFO:tensorflow:loss = 39.362694, step = 32251 (0.274 sec)\n",
            "INFO:tensorflow:global_step/sec: 358.728\n",
            "INFO:tensorflow:loss = 27.178505, step = 32351 (0.277 sec)\n",
            "INFO:tensorflow:global_step/sec: 364.375\n",
            "INFO:tensorflow:loss = 35.356243, step = 32451 (0.275 sec)\n",
            "INFO:tensorflow:global_step/sec: 349.177\n",
            "INFO:tensorflow:loss = 30.378487, step = 32551 (0.286 sec)\n",
            "INFO:tensorflow:global_step/sec: 358.608\n",
            "INFO:tensorflow:loss = 31.869942, step = 32651 (0.280 sec)\n",
            "INFO:tensorflow:global_step/sec: 376.02\n",
            "INFO:tensorflow:loss = 28.799706, step = 32751 (0.266 sec)\n",
            "INFO:tensorflow:global_step/sec: 366.619\n",
            "INFO:tensorflow:loss = 30.492258, step = 32851 (0.271 sec)\n",
            "INFO:tensorflow:global_step/sec: 341.324\n",
            "INFO:tensorflow:loss = 41.74387, step = 32951 (0.294 sec)\n",
            "INFO:tensorflow:global_step/sec: 380.502\n",
            "INFO:tensorflow:loss = 33.064053, step = 33051 (0.263 sec)\n",
            "INFO:tensorflow:global_step/sec: 331.166\n",
            "INFO:tensorflow:loss = 25.378086, step = 33151 (0.301 sec)\n",
            "INFO:tensorflow:global_step/sec: 369.591\n",
            "INFO:tensorflow:loss = 38.7846, step = 33251 (0.274 sec)\n",
            "INFO:tensorflow:global_step/sec: 359.244\n",
            "INFO:tensorflow:loss = 39.79016, step = 33351 (0.275 sec)\n",
            "INFO:tensorflow:global_step/sec: 386.933\n",
            "INFO:tensorflow:loss = 34.191597, step = 33451 (0.258 sec)\n",
            "INFO:tensorflow:global_step/sec: 351.822\n",
            "INFO:tensorflow:loss = 27.918594, step = 33551 (0.284 sec)\n",
            "INFO:tensorflow:global_step/sec: 371.109\n",
            "INFO:tensorflow:loss = 26.432547, step = 33651 (0.273 sec)\n",
            "INFO:tensorflow:global_step/sec: 360.037\n",
            "INFO:tensorflow:loss = 24.122852, step = 33751 (0.275 sec)\n",
            "INFO:tensorflow:global_step/sec: 349.257\n",
            "INFO:tensorflow:loss = 46.8686, step = 33851 (0.286 sec)\n",
            "INFO:tensorflow:global_step/sec: 365.319\n",
            "INFO:tensorflow:loss = 24.293032, step = 33951 (0.276 sec)\n",
            "INFO:tensorflow:global_step/sec: 373.017\n",
            "INFO:tensorflow:loss = 23.540813, step = 34051 (0.268 sec)\n",
            "INFO:tensorflow:global_step/sec: 337.191\n",
            "INFO:tensorflow:loss = 28.020004, step = 34151 (0.297 sec)\n",
            "INFO:tensorflow:global_step/sec: 352.802\n",
            "INFO:tensorflow:loss = 16.167042, step = 34251 (0.281 sec)\n",
            "INFO:tensorflow:global_step/sec: 348.456\n",
            "INFO:tensorflow:loss = 33.748867, step = 34351 (0.287 sec)\n",
            "INFO:tensorflow:global_step/sec: 369.144\n",
            "INFO:tensorflow:loss = 27.72809, step = 34451 (0.271 sec)\n",
            "INFO:tensorflow:global_step/sec: 362.19\n",
            "INFO:tensorflow:loss = 46.633133, step = 34551 (0.276 sec)\n",
            "INFO:tensorflow:global_step/sec: 364.246\n",
            "INFO:tensorflow:loss = 26.052158, step = 34651 (0.275 sec)\n",
            "INFO:tensorflow:global_step/sec: 350.454\n",
            "INFO:tensorflow:loss = 23.241621, step = 34751 (0.285 sec)\n",
            "INFO:tensorflow:global_step/sec: 378.577\n",
            "INFO:tensorflow:loss = 38.118256, step = 34851 (0.264 sec)\n",
            "INFO:tensorflow:global_step/sec: 329.964\n",
            "INFO:tensorflow:loss = 27.368176, step = 34951 (0.303 sec)\n",
            "INFO:tensorflow:global_step/sec: 367.447\n",
            "INFO:tensorflow:loss = 27.651104, step = 35051 (0.272 sec)\n",
            "INFO:tensorflow:global_step/sec: 359.523\n",
            "INFO:tensorflow:loss = 34.896538, step = 35151 (0.279 sec)\n",
            "INFO:tensorflow:global_step/sec: 375.929\n",
            "INFO:tensorflow:loss = 20.26496, step = 35251 (0.265 sec)\n",
            "INFO:tensorflow:global_step/sec: 326.993\n",
            "INFO:tensorflow:loss = 33.577034, step = 35351 (0.307 sec)\n",
            "INFO:tensorflow:global_step/sec: 355.503\n",
            "INFO:tensorflow:loss = 22.365345, step = 35451 (0.281 sec)\n",
            "INFO:tensorflow:global_step/sec: 357.121\n",
            "INFO:tensorflow:loss = 30.745968, step = 35551 (0.279 sec)\n",
            "INFO:tensorflow:global_step/sec: 360.309\n",
            "INFO:tensorflow:loss = 25.206995, step = 35651 (0.281 sec)\n",
            "INFO:tensorflow:global_step/sec: 365.518\n",
            "INFO:tensorflow:loss = 36.831566, step = 35751 (0.271 sec)\n",
            "INFO:tensorflow:global_step/sec: 369.374\n",
            "INFO:tensorflow:loss = 21.710377, step = 35851 (0.273 sec)\n",
            "INFO:tensorflow:global_step/sec: 373.344\n",
            "INFO:tensorflow:loss = 32.91131, step = 35951 (0.265 sec)\n",
            "INFO:tensorflow:global_step/sec: 364.278\n",
            "INFO:tensorflow:loss = 25.128143, step = 36051 (0.274 sec)\n",
            "INFO:tensorflow:global_step/sec: 374.304\n",
            "INFO:tensorflow:loss = 32.65368, step = 36151 (0.268 sec)\n",
            "INFO:tensorflow:global_step/sec: 357.773\n",
            "INFO:tensorflow:loss = 31.729706, step = 36251 (0.279 sec)\n",
            "INFO:tensorflow:global_step/sec: 345.494\n",
            "INFO:tensorflow:loss = 34.536457, step = 36351 (0.292 sec)\n",
            "INFO:tensorflow:global_step/sec: 354.348\n",
            "INFO:tensorflow:loss = 30.685406, step = 36451 (0.282 sec)\n",
            "INFO:tensorflow:global_step/sec: 369.201\n",
            "INFO:tensorflow:loss = 34.486115, step = 36551 (0.271 sec)\n",
            "INFO:tensorflow:global_step/sec: 354.237\n",
            "INFO:tensorflow:loss = 29.600397, step = 36651 (0.279 sec)\n",
            "INFO:tensorflow:global_step/sec: 341.844\n",
            "INFO:tensorflow:loss = 34.32223, step = 36751 (0.293 sec)\n",
            "INFO:tensorflow:global_step/sec: 374.266\n",
            "INFO:tensorflow:loss = 24.338718, step = 36851 (0.267 sec)\n",
            "INFO:tensorflow:global_step/sec: 366.529\n",
            "INFO:tensorflow:loss = 22.090214, step = 36951 (0.275 sec)\n",
            "INFO:tensorflow:global_step/sec: 365.98\n",
            "INFO:tensorflow:loss = 20.613789, step = 37051 (0.271 sec)\n",
            "INFO:tensorflow:global_step/sec: 376.839\n",
            "INFO:tensorflow:loss = 24.526241, step = 37151 (0.265 sec)\n",
            "INFO:tensorflow:global_step/sec: 378.378\n",
            "INFO:tensorflow:loss = 19.778381, step = 37251 (0.267 sec)\n",
            "INFO:tensorflow:global_step/sec: 352.328\n",
            "INFO:tensorflow:loss = 31.784592, step = 37351 (0.281 sec)\n",
            "INFO:tensorflow:global_step/sec: 345.436\n",
            "INFO:tensorflow:loss = 28.827927, step = 37451 (0.290 sec)\n",
            "INFO:tensorflow:Saving checkpoints for 37500 into /tmp/tmp2b8x8ooy/model.ckpt.\n",
            "INFO:tensorflow:Loss for final step: 47.465935.\n"
          ],
          "name": "stdout"
        },
        {
          "output_type": "execute_result",
          "data": {
            "text/plain": [
              "<tensorflow_estimator.python.estimator.canned.dnn.DNNClassifier at 0x7fdd88c17a90>"
            ]
          },
          "metadata": {
            "tags": []
          },
          "execution_count": 13
        }
      ]
    },
    {
      "cell_type": "markdown",
      "metadata": {
        "id": "TaYxpmx1KN3s",
        "colab_type": "text"
      },
      "source": [
        "##Converting ```tf.keras``` model to ```tf.estimator``` model"
      ]
    },
    {
      "cell_type": "markdown",
      "metadata": {
        "id": "G_UdndtoKfjX",
        "colab_type": "text"
      },
      "source": [
        "We can convert a ```tf.keras``` model to a ```tf.estimator``` model by using ```tf.keras.estimator.model_to_estimator()``` as demonstrated below. We will pass the ```keras_model``` previously compiled as an argument to this function."
      ]
    },
    {
      "cell_type": "code",
      "metadata": {
        "id": "-Hb-FJMVKp7z",
        "colab_type": "code",
        "colab": {}
      },
      "source": [
        "converted_model = tf.keras.estimator.model_to_estimator(keras_model)"
      ],
      "execution_count": 0,
      "outputs": []
    },
    {
      "cell_type": "markdown",
      "metadata": {
        "id": "lUuTYXhfLiPw",
        "colab_type": "text"
      },
      "source": [
        "##Comparison and conclusion\n",
        "\n",
        "Tensorflow is incredibly diverse and flexible. Both ```tf.keras``` and ```tf.estimator``` are great to use for training models.\n",
        "\n",
        "```tf.keras``` is a very high-level API that abstracts deep learning model components. These include layers, functions, optimizers, etc. that make it very easy for developers to quickly get a neural net up and running.\n",
        "\n",
        "```tf.estimator``` is also quite high level like ```tf.keras```, just like ```tf.keras``` it provides a high level abstraction over low level Tensorflow core operators.\n",
        "\n",
        "When deciding which one to use, try to pick the best choice that suits your specific needs. For examples, some factors that might help you decide are:\n",
        "\n",
        "\n",
        "\n",
        "*   ```tf.keras``` is sometimes easier to use for beginners creating their own models as the syntax is very easy to understand. Examples of this is the ```Sequential``` used in this guide, making it very easy to add layers.\n",
        "*   ```tf.estimator``` comes with some very nice classifiers built in, such as ```DNNClassifier``` (the one used in this guide), ```LinearClassifier```, and more!\n",
        "*   ```tf.estimator``` comes with support for distributed training across multiple servers with their API, but ```tf.keras``` does not.\n",
        "*   ```tf.estimator``` comes with support for TensorBoard visualization of data, such as your graphs, statistics, etc. which can be saved and viewed.\n",
        "\n",
        "Ultimately, ```tf.keras``` is more suited towards beginners, while ```tf.estimator``` is a more full package with more support for features such as distributed training, built-in classifiers, and TensorBoard support that developers will want to take advantage of.\n",
        "\n",
        "For more information, check out the documentation for ```tf.keras``` [here](https://www.tensorflow.org/api_docs/python/tf/keras), and the documentation for ```tf.estimator``` [here](https://www.tensorflow.org/api_docs/python/tf/estimator/Estimator?version=stable).\n",
        "\n"
      ]
    }
  ]
}