{
  "nbformat": 4,
  "nbformat_minor": 0,
  "metadata": {
    "kernelspec": {
      "display_name": "Python 3",
      "language": "python",
      "name": "python3"
    },
    "language_info": {
      "pygments_lexer": "ipython3",
      "codemirror_mode": {
        "version": 3,
        "name": "ipython"
      },
      "file_extension": ".py",
      "version": "3.6.1",
      "name": "python",
      "mimetype": "text/x-python",
      "nbconvert_exporter": "python"
    },
    "colab": {
      "name": "tf1_to_tf2.ipynb",
      "provenance": [],
      "collapsed_sections": [],
      "toc_visible": true
    }
  },
  "cells": [
    {
      "cell_type": "markdown",
      "metadata": {
        "id": "FtLNH_RLy707",
        "colab_type": "text"
      },
      "source": [
        "# Using Deep Learning to Predict Who Died on The Titanic\n",
        "\n",
        "Deep Learning certainly has a lot of interesting and useful applications in today's modern times, and it has only been made more accessible to developers due to the advent of libraries like Tensorflow, and the inbuilt support it offers for Keras, one of the most widely used libraries for DL.\n",
        "\n",
        "\n",
        "In this tutorial, we shall use deep learning to predict which passengers died in the horrific Titanic wreckage of 1912. We shall be using tf.keras instead of standalone Keras with TensorFlow backend in order to illustrate the simplicity the integration of Keras and TensorFlow lends to aspiring ML enthusiasts.\n",
        "\n",
        "*Download the data files [here](https://www.kaggle.com/c/3136/download-all), and put them into a folder called input in the root directory.*"
      ]
    },
    {
      "cell_type": "markdown",
      "metadata": {
        "_uuid": "3d5f8df7-8579-4a1b-8b6e-daee82d2cacc",
        "_cell_guid": "c392f1bf-5ed4-44e1-a6f1-2dde8583b995",
        "trusted": true,
        "colab_type": "text",
        "id": "9KwH88TTxv1p"
      },
      "source": [
        "**Step 1: Import the Dataframe**"
      ]
    },
    {
      "cell_type": "markdown",
      "metadata": {
        "id": "XRpKVVumyXMA",
        "colab_type": "text"
      },
      "source": [
        "Import all necessary libraries"
      ]
    },
    {
      "cell_type": "code",
      "metadata": {
        "id": "rt3FGrOit6QD",
        "colab_type": "code",
        "colab": {}
      },
      "source": [
        "from __future__ import absolute_import, division, print_function, unicode_literals\n",
        "\n",
        "# Install TensorFlow\n",
        "try:\n",
        "  # %tensorflow_version only exists in Colab.\n",
        "  %tensorflow_version 2.x\n",
        "except Exception:\n",
        "  pass\n",
        "\n",
        "#Using latest version of Tensorflow, and using inbuilt tf.keras APIs instead of standalone Keras\n",
        "\n",
        "import tensorflow as tf\n",
        "from tensorflow.keras import layers\n",
        "\n",
        "print(tf.__version__)\n"
      ],
      "execution_count": 0,
      "outputs": []
    },
    {
      "cell_type": "code",
      "metadata": {
        "_uuid": "ed63fe5f-8ee7-4fb4-8395-b3662756a876",
        "_cell_guid": "d6d07e4d-9982-4744-90d5-5b148ae02790",
        "trusted": true,
        "id": "MSgjHwl6t4V9",
        "colab_type": "code",
        "colab": {}
      },
      "source": [
        "import numpy as np\n",
        "import pandas as pd\n",
        "import matplotlib.pyplot as plt"
      ],
      "execution_count": 0,
      "outputs": []
    },
    {
      "cell_type": "markdown",
      "metadata": {
        "id": "3GXQsG3yyxbB",
        "colab_type": "text"
      },
      "source": [
        "Import the data, for both training_set, and testing_set"
      ]
    },
    {
      "cell_type": "markdown",
      "metadata": {
        "id": "fVaO9Gv91JV2",
        "colab_type": "text"
      },
      "source": [
        "Split the dataset to *x* input data set(i.e. 'Sex', 'Cabin', 'Fares and etc), and our prediction (or *y*-axis) label, i.e. *Survived*"
      ]
    },
    {
      "cell_type": "code",
      "metadata": {
        "_uuid": "ad8eccb2-6a4f-43bf-92dc-af8018264fab",
        "_cell_guid": "d8d9442c-960a-419f-b424-8051a7304669",
        "trusted": true,
        "_kg_hide-output": false,
        "id": "4bKR4e2et4WG",
        "colab_type": "code",
        "colab": {}
      },
      "source": [
        "training_set = pd.read_csv('https://github.com/boronhub/progress-bar/tree/master/input/train.csv?raw=true')\n",
        "testing_set = pd.read_csv('https://github.com/boronhub/progress-bar/tree/master/input/test.csv?raw=true')\n",
        "\n",
        "\"\"\"We are dropping PassengerId, Name and Ticket fields, \n",
        "as they would not have impacted a passenger's chances of survival\"\"\"\n",
        "\n",
        "x_train = training_set.drop(['PassengerId','Name','Ticket','Survived'], axis=1)\n",
        "y_train = training_set['Survived']\n",
        "\n",
        "x_test = testing_set.drop(['PassengerId','Name','Ticket'], axis=1)"
      ],
      "execution_count": 0,
      "outputs": []
    },
    {
      "cell_type": "code",
      "metadata": {
        "_uuid": "129c2ff4-1f16-4743-9cc5-715ab7bdcf5a",
        "_cell_guid": "9fb861e4-acf7-4816-8516-d2fb2d4cf6e1",
        "trusted": true,
        "id": "JLyacjEKt4WK",
        "colab_type": "code",
        "colab": {}
      },
      "source": [
        "x_train['Age'] = x_train['Age'].fillna(x_train['Age'].mean())\n",
        "x_test['Age'] = x_test['Age'].fillna(x_test['Age'].mean())"
      ],
      "execution_count": 0,
      "outputs": []
    },
    {
      "cell_type": "markdown",
      "metadata": {
        "_uuid": "b9c905c3-1cdb-479b-95f3-158debf6eebe",
        "_cell_guid": "60d824ee-a806-4e7d-8cb9-019b39e032ff",
        "trusted": true,
        "id": "c2OcOcLKt4WO",
        "colab_type": "text"
      },
      "source": [
        "**Step 2: Assigning numerical values to the categories we shall be using**"
      ]
    },
    {
      "cell_type": "code",
      "metadata": {
        "_uuid": "50adebdd-4f56-48c1-91fa-8504892e534f",
        "_cell_guid": "cfbf7a40-6497-4f7d-a6ba-251f69aa9d50",
        "trusted": true,
        "id": "pAEkRpRZt4WQ",
        "colab_type": "code",
        "colab": {}
      },
      "source": [
        "def simplify_ages(df):\n",
        "    bins = (-1, 0, 5, 12, 18, 25, 35, 60, 120)\n",
        "    group_names = ['Unknown', 'Baby', 'Child', 'Teenager', 'Student', 'Young Adult', 'Adult', 'Senior']\n",
        "    categories = pd.cut(df['Age'], bins, labels=group_names)\n",
        "    df['Age'] = categories.cat.codes \n",
        "    return df\n",
        "\n",
        "def simplify_cabins(df):\n",
        "    df['Cabin'] = df['Cabin'].fillna('N')\n",
        "    df['Cabin'] = df['Cabin'].apply(lambda x: x[0])\n",
        "    df['Cabin'] =  pd.Categorical(df['Cabin'])\n",
        "    df['Cabin'] = df['Cabin'].cat.codes \n",
        "    return df\n",
        "\n",
        "def simplify_fares(df):\n",
        "    df['Fare'] = df.Fare.fillna(-0.5)\n",
        "    bins = (-1, 0, 8, 15, 31, 1000)\n",
        "    group_names = ['Unknown', '1_quartile', '2_quartile', '3_quartile', '4_quartile']\n",
        "    categories = pd.cut(df['Fare'], bins, labels=group_names)\n",
        "    df['Fare'] = categories.cat.codes \n",
        "    return df\n",
        "\n",
        "def simplify_sex(df):\n",
        "    df['Sex'] = pd.Categorical(df['Sex'])\n",
        "    df['Sex'] = df['Sex'].cat.codes \n",
        "    return df\n",
        "\n",
        "def simplify_embarked(df):\n",
        "    df['Embarked'] = pd.Categorical(df['Embarked'])\n",
        "    df['Embarked'] = df['Embarked'].cat.codes + 1\n",
        "    return df\n",
        "\n",
        "def transform_features(df):\n",
        "    df = simplify_ages(df)\n",
        "    df = simplify_cabins(df)\n",
        "    df = simplify_fares(df)\n",
        "    df = simplify_sex(df)\n",
        "    df = simplify_embarked(df)\n",
        "    return df"
      ],
      "execution_count": 0,
      "outputs": []
    },
    {
      "cell_type": "markdown",
      "metadata": {
        "id": "_TARdaJ92L7u",
        "colab_type": "text"
      },
      "source": [
        "Using transform_features on both the x-value splits, we can see our dataset in it's transformed form in order to understand it better as we head deeper into the tutorial."
      ]
    },
    {
      "cell_type": "code",
      "metadata": {
        "_uuid": "61d40ff4-bec9-4126-ac1e-f440f1a91a7f",
        "_cell_guid": "b8ea390b-a660-43ad-9f4f-eb6751086733",
        "trusted": true,
        "_kg_hide-output": true,
        "id": "RdRv-QWot4WV",
        "colab_type": "code",
        "colab": {}
      },
      "source": [
        "transform_features(x_train)\n",
        "transform_features(x_test)"
      ],
      "execution_count": 0,
      "outputs": []
    },
    {
      "cell_type": "markdown",
      "metadata": {
        "_uuid": "6f4f8415-eeed-45c2-8da1-d0571964524a",
        "_cell_guid": "5d0d1f10-46c7-4cb2-8567-ed597f4da5d5",
        "trusted": true,
        "id": "BwUCl5_Ot4WY",
        "colab_type": "text"
      },
      "source": [
        "**Step 3: Build a Sequential model using tf.keras**"
      ]
    },
    {
      "cell_type": "markdown",
      "metadata": {
        "id": "VG04jSs93ABS",
        "colab_type": "text"
      },
      "source": [
        "Sequential models are linear stacks of layers with various parameters that dictate how it will be trained on the predefined dataset."
      ]
    },
    {
      "cell_type": "markdown",
      "metadata": {
        "id": "vn8PpbNG3TB-",
        "colab_type": "text"
      },
      "source": [
        "Since we are on Colab, we don't have to worry about high GPU usages, meaning we can have lots of output units, meaning our predictions will be more accurate! So, we will have 4 Layers, first 3 layers with 64 units with \"Relu\" activation function and the last layer with sigmoid activation function."
      ]
    },
    {
      "cell_type": "markdown",
      "metadata": {
        "id": "10LQ_Now5Fk3",
        "colab_type": "text"
      },
      "source": [
        "We are using Binary Crossentropy loss function as we are using '0' to represent passengers did not survive, and '1' to represent survivors."
      ]
    },
    {
      "cell_type": "code",
      "metadata": {
        "_uuid": "4c405a69-1bc0-48cb-ae16-65e82b5df1ca",
        "_cell_guid": "f12850dd-653d-428e-9b68-72d218d38186",
        "trusted": true,
        "id": "KmmzMjXSt4WZ",
        "colab_type": "code",
        "colab": {}
      },
      "source": [
        "model = tf.keras.Sequential()\n",
        "model.add(layers.Dense(64, activation='relu', \n",
        "                       input_shape=(8,)))\n",
        "model.add(layers.Dense(64, activation='relu'))\n",
        "model.add(layers.Dense(64, activation='relu'))\n",
        "model.add(layers.Dense(1, activation='sigmoid'))\n",
        "\n",
        "model.compile(optimizer=tf.keras.optimizers.Adam(0.01),\n",
        "             loss=tf.keras.losses.BinaryCrossentropy(),\n",
        "             metrics=['accuracy'])"
      ],
      "execution_count": 0,
      "outputs": []
    },
    {
      "cell_type": "markdown",
      "metadata": {
        "_uuid": "72a262e5-5f1b-474a-84f5-f90217d62ffb",
        "_cell_guid": "55f016f5-ce62-4b01-b031-8b0f24bd2c64",
        "trusted": true,
        "id": "saabrPSRt4Wd",
        "colab_type": "text"
      },
      "source": [
        "**Step 4: Split the training data set with validation set, and run the model**"
      ]
    },
    {
      "cell_type": "code",
      "metadata": {
        "_uuid": "dd023be2-6842-48db-8fc9-53c90befe3ad",
        "_cell_guid": "8db1fb6c-dbf5-437d-8660-5a4b36ea32c8",
        "trusted": true,
        "id": "I5e-48tAt4We",
        "colab_type": "code",
        "colab": {}
      },
      "source": [
        "y_train = np.asarray(y_train)\n",
        "x_train = np.asarray(x_train)\n",
        "x_test = np.asarray(x_test)\n",
        "\n",
        "validation_size = 200\n",
        "\n",
        "x_val = x_train[:validation_size]\n",
        "partial_x_train = x_train[validation_size:]\n",
        "\n",
        "y_val = y_train[:validation_size]\n",
        "partial_y_train = y_train[validation_size:]"
      ],
      "execution_count": 0,
      "outputs": []
    },
    {
      "cell_type": "code",
      "metadata": {
        "_uuid": "60dc8c60-1372-496f-b71f-1fbac9d80e37",
        "_cell_guid": "907183ad-e61d-45d3-9418-8ef718994f36",
        "trusted": true,
        "id": "ikUOyOdTt4Wj",
        "colab_type": "code",
        "colab": {}
      },
      "source": [
        "history = model.fit(partial_x_train, partial_y_train, epochs=30, validation_data=(x_val, y_val))"
      ],
      "execution_count": 0,
      "outputs": []
    },
    {
      "cell_type": "markdown",
      "metadata": {
        "_uuid": "84dd0c4a-6c43-4026-8b78-80c48440756c",
        "_cell_guid": "6ceeb7ab-36ad-4496-9fb0-61c3704695b5",
        "trusted": true,
        "id": "xA89H9e8t4Wm",
        "colab_type": "text"
      },
      "source": [
        "**Step 5: Plot accuracy and loss for both training and validation set, to check the model optimization level**"
      ]
    },
    {
      "cell_type": "code",
      "metadata": {
        "id": "j1bq83cjTkSh",
        "colab_type": "code",
        "colab": {}
      },
      "source": [
        "acc = history.history['accuracy']\n",
        "val_acc = history.history['val_accuracy']\n",
        "loss = history.history['loss']\n",
        "val_loss = history.history['val_loss']"
      ],
      "execution_count": 0,
      "outputs": []
    },
    {
      "cell_type": "code",
      "metadata": {
        "_uuid": "31fc7c0d-697c-47bf-8c54-ce287a41cbff",
        "_cell_guid": "10d15be6-f227-4333-8f7f-860380fcf097",
        "trusted": true,
        "id": "IoemKVCpt4Wn",
        "colab_type": "code",
        "colab": {}
      },
      "source": [
        "plt.plot(acc, label = \"Training Accuracy\")\n",
        "plt.plot(val_acc, label = \"Validation Accuracy\")\n",
        "\n",
        "plt.legend()\n",
        "plt.xlabel('Epochs')\n",
        "plt.ylabel('Acc')\n",
        "plt.show()\n"
      ],
      "execution_count": 0,
      "outputs": []
    },
    {
      "cell_type": "code",
      "metadata": {
        "id": "pdUtCtwl5322",
        "colab_type": "code",
        "colab": {}
      },
      "source": [
        "plt.clf()"
      ],
      "execution_count": 0,
      "outputs": []
    },
    {
      "cell_type": "code",
      "metadata": {
        "_uuid": "f8643305-d5ea-4cdc-a5bc-45127377ca39",
        "_cell_guid": "ca5f39da-e637-494e-a79d-554760c05654",
        "trusted": true,
        "id": "Elhrbwtct4Ws",
        "colab_type": "code",
        "colab": {}
      },
      "source": [
        "plt.plot(loss, label = \"Training Loss\")\n",
        "plt.plot(val_loss, label = \"Validation Loss\")\n",
        "\n",
        "plt.legend()\n",
        "plt.xlabel('Epochs')\n",
        "plt.ylabel('Loss')\n",
        "plt.show()"
      ],
      "execution_count": 0,
      "outputs": []
    },
    {
      "cell_type": "markdown",
      "metadata": {
        "_uuid": "890a7699-d9fd-4e64-b6ad-f3f9a6286c20",
        "_cell_guid": "991c61e6-5682-48e1-8e2b-49b294f8e27e",
        "trusted": true,
        "id": "29DABJlPt4Wu",
        "colab_type": "text"
      },
      "source": [
        "Keep experimenting with the epoch and model values to find out what best works for you.\n",
        "Use different labels like Name, Sex, etc; to further explore who made it out alive."
      ]
    },
    {
      "cell_type": "markdown",
      "metadata": {
        "_uuid": "471435ea-7e46-4030-b49e-f119d970921e",
        "_cell_guid": "8ab4e5a2-7988-4667-a5f8-1ca270d89e1d",
        "trusted": true,
        "id": "i05BwESXt4Ww",
        "colab_type": "text"
      },
      "source": [
        "**Step 6: Predict the actual test data**"
      ]
    },
    {
      "cell_type": "markdown",
      "metadata": {
        "id": "0M13pSzr443j",
        "colab_type": "text"
      },
      "source": [
        "Using PassengerID to easily identify the passenger in question. "
      ]
    },
    {
      "cell_type": "code",
      "metadata": {
        "_uuid": "c40ee5e4-9e02-4e7a-acf9-6f40b48592e6",
        "_cell_guid": "0e59effb-080b-4c40-9f13-5997855a7d05",
        "trusted": true,
        "id": "sqcHuvTFt4Ww",
        "colab_type": "code",
        "colab": {}
      },
      "source": [
        "predictions = model.predict_classes(x_test)\n",
        "ids = testing_set['PassengerId'].copy()\n",
        "new_output = ids.to_frame()\n",
        "new_output[\"Survived\"]=predictions\n",
        "new_output.head(10)"
      ],
      "execution_count": 0,
      "outputs": []
    },
    {
      "cell_type": "code",
      "metadata": {
        "id": "MbUzf-ZcDOSY",
        "colab_type": "code",
        "colab": {}
      },
      "source": [
        "tensorboard dev upload --logdir logs"
      ],
      "execution_count": 0,
      "outputs": []
    }
  ]
}