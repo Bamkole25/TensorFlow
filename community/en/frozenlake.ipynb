{
  "nbformat": 4,
  "nbformat_minor": 0,
  "metadata": {
    "colab": {
      "name": "Untitled0.ipynb",
      "version": "0.3.2",
      "provenance": [],
      "private_outputs": true,
      "collapsed_sections": []
    },
    "kernelspec": {
      "name": "python3",
      "display_name": "Python 3"
    },
    "accelerator": "GPU"
  },
  "cells": [
    {
      "cell_type": "markdown",
      "metadata": {
        "id": "x3GXwV6jmFOC",
        "colab_type": "text"
      },
      "source": [
        "## Deep Reinforcement Learning using AI Gym's Frozen Lake"
      ]
    },
    {
      "cell_type": "markdown",
      "metadata": {
        "id": "UAyCwPvK59KW",
        "colab_type": "text"
      },
      "source": [
        "This is an example of using deep reinforcement learning to determine the best policy for navigating the AI gym's Frozen Lake problem.\n",
        "Traditionally this is solved using MDPs, but it can be solved model free using deep learning (as you would expect)\n",
        "\n",
        "I was inspired by Miguel Morales book on Deep Reinforcement Learning (which I hope he finishes soon)\n",
        "\n",
        "It uses a double Q deep learning structure, where it only updates the model after running a number of games (rather than just one). This provides stability so one particular game does not dominate the learning.\n",
        "\n",
        "This should be used in conjuction with reading about deep reinforcement learning and really this just serves as a functional code."
      ]
    },
    {
      "cell_type": "code",
      "metadata": {
        "id": "Vnv0OrtplVEz",
        "colab_type": "code",
        "colab": {}
      },
      "source": [
        "#@title MIT License\n",
        "#\n",
        "# Copyright (c) 2019 Graham Anthony Chow\n",
        "#\n",
        "# Permission is hereby granted, free of charge, to any person obtaining a\n",
        "# copy of this software and associated documentation files (the \"Software\"),\n",
        "# to deal in the Software without restriction, including without limitation\n",
        "# the rights to use, copy, modify, merge, publish, distribute, sublicense,\n",
        "# and/or sell copies of the Software, and to permit persons to whom the\n",
        "# Software is furnished to do so, subject to the following conditions:\n",
        "#\n",
        "# The above copyright notice and this permission notice shall be included in\n",
        "# all copies or substantial portions of the Software.\n",
        "#\n",
        "# THE SOFTWARE IS PROVIDED \"AS IS\", WITHOUT WARRANTY OF ANY KIND, EXPRESS OR\n",
        "# IMPLIED, INCLUDING BUT NOT LIMITED TO THE WARRANTIES OF MERCHANTABILITY,\n",
        "# FITNESS FOR A PARTICULAR PURPOSE AND NONINFRINGEMENT. IN NO EVENT SHALL\n",
        "# THE AUTHORS OR COPYRIGHT HOLDERS BE LIABLE FOR ANY CLAIM, DAMAGES OR OTHER\n",
        "# LIABILITY, WHETHER IN AN ACTION OF CONTRACT, TORT OR OTHERWISE, ARISING\n",
        "# FROM, OUT OF OR IN CONNECTION WITH THE SOFTWARE OR THE USE OR OTHER\n",
        "# DEALINGS IN THE SOFTWARE."
      ],
      "execution_count": 0,
      "outputs": []
    },
    {
      "cell_type": "markdown",
      "metadata": {
        "id": "wYzIUnAAmtH3",
        "colab_type": "text"
      },
      "source": [
        "This example was written and tested in Tensor Flow 2.0 beta"
      ]
    },
    {
      "cell_type": "code",
      "metadata": {
        "id": "GuQV-ptAm7VX",
        "colab_type": "code",
        "colab": {}
      },
      "source": [
        "# Install TensorFlow\n",
        "!pip install tensorflow==2.0.0-beta1\n",
        "\n",
        "import gym\n",
        "import numpy as np\n",
        "import tensorflow as tf\n"
      ],
      "execution_count": 0,
      "outputs": []
    },
    {
      "cell_type": "markdown",
      "metadata": {
        "id": "7zIAWei2qzFX",
        "colab_type": "text"
      },
      "source": [
        "Let get the Frozen Lake...."
      ]
    },
    {
      "cell_type": "code",
      "metadata": {
        "id": "iLEJuRZ1q3y_",
        "colab_type": "code",
        "colab": {}
      },
      "source": [
        "#get the game\n",
        "env = gym.make('FrozenLake-v0')\n",
        "\n",
        "#labeling text to mapping\n",
        "action_map = {\n",
        "    0 : \"left\",\n",
        "    1 : \"down\",\n",
        "    2 : \"right\",\n",
        "    3 : \"up \"}\n",
        "\n",
        "#result expected, one that you would get from using MDPs to solve this.\n",
        "ideal_mdp_result = [ \"(left) \", \"(up)   \", \"(left) \", \"(up)   \", \"(left) \", \"(left) \", \"(up)   \", \"(down) \", \"(left) \", \"(right)\", \"(down) \"]"
      ],
      "execution_count": 0,
      "outputs": []
    },
    {
      "cell_type": "markdown",
      "metadata": {
        "id": "4YDdtY4-u6eR",
        "colab_type": "text"
      },
      "source": [
        "Since we are only 11 locations that will have a policy, lets create a map these away so the network does not need to worry about them."
      ]
    },
    {
      "cell_type": "code",
      "metadata": {
        "id": "PETZG-SwvR7v",
        "colab_type": "code",
        "colab": {}
      },
      "source": [
        "#even though the grid is 4 x 4, only 11 locations are valid (the goal and pits are don't have really any policy to learn) , so lets just learn on those ones\n",
        "state_map = {\n",
        "    0 : 0,\n",
        "    1 : 1,\n",
        "    2 : 2,\n",
        "    3 : 3,\n",
        "    4 : 4,\n",
        "    5 : 6,\n",
        "    6 : 8,\n",
        "    7 : 9,\n",
        "    8 : 10,\n",
        "    9 : 13,\n",
        "    10 : 14\n",
        "    }\n",
        "\n",
        "reverse_state_map = {\n",
        "    0 : 0,\n",
        "    1 : 1,\n",
        "    2 : 2,\n",
        "    3 : 3,\n",
        "    4 : 4,\n",
        "    5 : -1,\n",
        "    6 : 5,\n",
        "    7 : -1,\n",
        "    8 : 6,\n",
        "    9 : 7,\n",
        "    10 : 8,\n",
        "    11 : -1,\n",
        "    12 : -1,\n",
        "    13 : 9,\n",
        "    14 : 10,\n",
        "    15 : -1\n",
        "    }\n",
        "\n",
        "# not mapped locations\n",
        "non_mapped = [ 5, 7, 11, 12, 15]"
      ],
      "execution_count": 0,
      "outputs": []
    },
    {
      "cell_type": "markdown",
      "metadata": {
        "id": "F_rBXXd-vXh_",
        "colab_type": "text"
      },
      "source": [
        "Now lets define this network. You can try to change to see what happens."
      ]
    },
    {
      "cell_type": "code",
      "metadata": {
        "id": "bzKB0_40vpgQ",
        "colab_type": "code",
        "colab": {}
      },
      "source": [
        "#set up the network, a random network ;)\n",
        "l0 = tf.keras.layers.Dense(units=11, input_shape=[11]) \n",
        "l1 = tf.keras.layers.Dense(units=44, activation='relu') \n",
        "l2 = tf.keras.layers.Dense(units=44, activation='relu') \n",
        "l3 = tf.keras.layers.Dense(units=4)\n",
        "model = tf.keras.Sequential([l0, l1, l2, l3])\n",
        "model.compile(loss='mean_squared_error',\n",
        "            optimizer=tf.keras.optimizers.Adam(0.001))\n",
        "print(model.summary())"
      ],
      "execution_count": 0,
      "outputs": []
    },
    {
      "cell_type": "markdown",
      "metadata": {
        "id": "5ctZQB8zvtn2",
        "colab_type": "text"
      },
      "source": [
        "Lets play a few games to see what happens if you randomly decide where to go"
      ]
    },
    {
      "cell_type": "code",
      "metadata": {
        "id": "hlvqDDl4v1ue",
        "colab_type": "code",
        "colab": {}
      },
      "source": [
        "# test on an untrained network\n",
        "for t in range(10):\n",
        "    s = env.reset()\n",
        "\n",
        "    j = 0\n",
        "    while j < 999: #just make sure we end, however very unlikely we would just go around circles forever\n",
        "        j+=1\n",
        "\n",
        "        sm = reverse_state_map[s]\n",
        "        input = np.identity(11)[sm:sm+1]\n",
        "        predictions = model.predict(input)\n",
        "        a = np.argmax(predictions[0])\n",
        "\n",
        "        #perform the step\n",
        "        s1,r,d,_ = env.step(a)    \n",
        "\n",
        "        if d == True:\n",
        "            if r > 0:\n",
        "                print(f\"Game{t}: success, you reached the goal\")\n",
        "            else:\n",
        "                print(f\"Game{t}: fail, you fell in a pit\")\n",
        "            break;\n",
        "        s = s1"
      ],
      "execution_count": 0,
      "outputs": []
    },
    {
      "cell_type": "markdown",
      "metadata": {
        "id": "goahwFPgv6wW",
        "colab_type": "text"
      },
      "source": [
        "That did not work out so well.\n"
      ]
    },
    {
      "cell_type": "markdown",
      "metadata": {
        "id": "6bLOWqo0v_5v",
        "colab_type": "text"
      },
      "source": [
        "Lets do some training to explore to determine where to go."
      ]
    },
    {
      "cell_type": "code",
      "metadata": {
        "id": "lc-ZYAadwL4_",
        "colab_type": "code",
        "colab": {}
      },
      "source": [
        "#training\n",
        "epsilon = 1\n",
        "num_episodes = 1000\n",
        "epsilon_decay_rate = 1/num_episodes\n",
        "\n",
        "# loss for each step away from goal\n",
        "gamma = 0.9;\n",
        "\n",
        "for t in range(num_episodes):\n",
        "    x = []\n",
        "    y = []\n",
        "    #this is double Q, so we run the game 100 times before we update the network\n",
        "    for b in range(100):\n",
        "        #reset the environment\n",
        "        s = env.reset()\n",
        "\n",
        "        j = 0\n",
        "        while j < 999: #just make sure we end, however very unlikely we would just go around circles forever\n",
        "            j+=1\n",
        "\n",
        "            #predict which way we should go according to the network (initially this will be random)\n",
        "            sm = reverse_state_map[s]\n",
        "            assert(sm >= 0)\n",
        "            input = np.identity(11)[sm:sm+1]\n",
        "            predictions = model.predict(input)\n",
        "\n",
        "            # intially we need to explore the map and hence the random steps. However we need to progressively actually get some where so the rewards can filter back and we determine the correct policy.\n",
        "            if np.random.rand(1) < epsilon:\n",
        "                a = env.action_space.sample()\n",
        "            else:\n",
        "                a = np.argmax(predictions[0])\n",
        "            \n",
        "            #perform the step\n",
        "            s1,r,d,_ = env.step(a)\n",
        "            if d == True:\n",
        "                update = r #either we have reached the goal or fallen down a pit\n",
        "            else:\n",
        "                s1m = reverse_state_map[s1]\n",
        "                assert(s1m >= 0)\n",
        "                input1 = np.identity(11)[s1m:s1m+1]\n",
        "                predictions1 = model.predict(input1) \n",
        "                update = r + gamma * np.max(predictions1[0])\n",
        "\n",
        "            #we only update the action we take, all the others we don't try to change\n",
        "            predictions[0][a] = update\n",
        "\n",
        "            # store for training\n",
        "            y.append(predictions[0])\n",
        "            x.append(input[0])\n",
        "\n",
        "            s = s1\n",
        "            if d == True:\n",
        "                break;\n",
        "\n",
        "    #now do some training together with some UI\n",
        "    if t % 25 == 0:\n",
        "        print(f\"{t} {epsilon}\")\n",
        "        model.fit(np.array(x), np.array(y), verbose=True)\n",
        "        for s in range(16):\n",
        "            if reverse_state_map[s] < 0:\n",
        "                print(f\"{s}\")\n",
        "            else:\n",
        "                sm = reverse_state_map[s]\n",
        "                input = np.identity(11)[sm:sm+1]\n",
        "                predictions = model.predict(input)\n",
        "                print(f\"{s} {predictions} {ideal_mdp_result[sm]} {action_map[np.argmax(predictions[0])]}\")\n",
        "    else:\n",
        "        model.fit(np.array(x), np.array(y), verbose=False)\n",
        "\n",
        "    epsilon -= epsilon_decay_rate\n",
        "    \n",
        "print(f\"Finished!\")    "
      ],
      "execution_count": 0,
      "outputs": []
    },
    {
      "cell_type": "markdown",
      "metadata": {
        "id": "JwChfWd216VH",
        "colab_type": "text"
      },
      "source": [
        "Lets look at the final policy"
      ]
    },
    {
      "cell_type": "code",
      "metadata": {
        "id": "Q4h6UfSD1xTK",
        "colab_type": "code",
        "colab": {}
      },
      "source": [
        "for s in range(16):\n",
        "    if reverse_state_map[s] < 0:\n",
        "        print(f\"{s}\")\n",
        "    else:\n",
        "        sm = reverse_state_map[s]\n",
        "        input = np.identity(11)[sm:sm+1]\n",
        "        predictions = model.predict(input)\n",
        "        print(f\"{s} {predictions} {ideal_mdp_result[sm]} {action_map[np.argmax(predictions[0])]}\")"
      ],
      "execution_count": 0,
      "outputs": []
    },
    {
      "cell_type": "markdown",
      "metadata": {
        "id": "2X93flrNwTZs",
        "colab_type": "text"
      },
      "source": [
        "Network fully trained, now lets try those games again"
      ]
    },
    {
      "cell_type": "code",
      "metadata": {
        "id": "-xRFNJyOwYeo",
        "colab_type": "code",
        "colab": {}
      },
      "source": [
        "for t in range(10):\n",
        "    s = env.reset()\n",
        "\n",
        "    j = 0\n",
        "    while j < 999: #just make sure we end, however very unlikely we would just go around circles forever\n",
        "        j+=1\n",
        "\n",
        "        sm = reverse_state_map[s]\n",
        "        input = np.identity(11)[sm:sm+1]\n",
        "        predictions = model.predict(input)\n",
        "        a = np.argmax(predictions[0])\n",
        "\n",
        "        #perform the step\n",
        "        s1,r,d,_ = env.step(a)    \n",
        "\n",
        "        if d == True:\n",
        "            if r > 0:\n",
        "                print(f\"Game{t}: success, you reached the goal\")\n",
        "            else:\n",
        "                print(f\"Game{t}: fail, you fell in a pit\")\n",
        "            break;\n",
        "        s = s1"
      ],
      "execution_count": 0,
      "outputs": []
    }
  ]
}
